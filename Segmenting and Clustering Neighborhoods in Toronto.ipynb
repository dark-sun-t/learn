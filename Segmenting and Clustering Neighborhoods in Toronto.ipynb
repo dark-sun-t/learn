{
 "cells": [
  {
   "cell_type": "markdown",
   "metadata": {},
   "source": [
    "# Import libraries"
   ]
  },
  {
   "cell_type": "code",
   "execution_count": null,
   "metadata": {},
   "outputs": [],
   "source": [
    "import pandas as pd"
   ]
  },
  {
   "cell_type": "markdown",
   "metadata": {},
   "source": [
    "# Scrap the data from Wikipedia"
   ]
  },
  {
   "cell_type": "code",
   "execution_count": null,
   "metadata": {},
   "outputs": [],
   "source": [
    "# Retrieve the HTML data\n",
    "dfHTML=pd.read_html('https://en.wikipedia.org/wiki/List_of_postal_codes_of_Canada:_M')"
   ]
  },
  {
   "cell_type": "markdown",
   "metadata": {},
   "source": [
    "# Prepare data\n",
    "First it removes all rows when 'Borough' is 'Not assigned'.  \n",
    "Then the column names will be named and sorted by the postcode.  \n",
    "The old index row after sort can be dropped.  \n",
    "As required it sets 'Neighbourhood' to 'Borough' when 'Neighbourhood' is 'Not assigned'"
   ]
  },
  {
   "cell_type": "code",
   "execution_count": null,
   "metadata": {},
   "outputs": [],
   "source": [
    "# Prepare data\n",
    "dfCAN=dfHTML[0].loc[dfHTML[0][1]!='Not assigned'].copy()\n",
    "dfCAN.rename(columns={0: 'Postcode', 1: 'Borough', 2: 'Neighbourhood'}, inplace=True)\n",
    "dfCAN.sort_values(by='Postcode', inplace=True)\n",
    "dfCAN.drop([0], inplace=True)\n",
    "dfCAN.reset_index(inplace=True)\n",
    "dfCAN.drop(['index'], axis=1, inplace=True)\n",
    "# Set 'Neighbourhood' to 'Borough' when 'Not assigned'\n",
    "idx = dfCAN[dfCAN['Neighbourhood'] == 'Not assigned'].index\n",
    "dfCAN.loc[idx,'Neighbourhood']=dfCAN.loc[idx, 'Borough']\n",
    "print(dfCAN.describe())\n",
    "dfCAN.head()"
   ]
  },
  {
   "cell_type": "markdown",
   "metadata": {},
   "source": [
    "# Restructure data\n",
    "The resulting data frame is grouped by 'Postcode'. Furthermore 'Neighbourhood' will be converted to a list of values."
   ]
  },
  {
   "cell_type": "code",
   "execution_count": null,
   "metadata": {},
   "outputs": [],
   "source": [
    "grCAN = dfCAN.groupby('Postcode') #, as_index=False)\n",
    "dfCAN_List = pd.DataFrame(\n",
    "    [[code, \n",
    "      ', '.join(set(dfCAN.iloc[grCAN.groups[code],1])), \n",
    "      ', '.join(set(dfCAN.iloc[grCAN.groups[code],2]))] for code in grCAN.groups],\n",
    "    columns=('Postcode', 'Borough', 'Neighbourhood')\n",
    "    )"
   ]
  },
  {
   "cell_type": "markdown",
   "metadata": {},
   "source": [
    "# Result\n",
    "First it shows the shape and after that the resulting DataFrame"
   ]
  },
  {
   "cell_type": "code",
   "execution_count": 126,
   "metadata": {},
   "outputs": [
    {
     "name": "stdout",
     "output_type": "stream",
     "text": [
      "Shape of result:  (103, 3)\n"
     ]
    }
   ],
   "source": [
    "print('Shape of result: ', dfCAN_List.shape)"
   ]
  },
  {
   "cell_type": "code",
   "execution_count": null,
   "metadata": {},
   "outputs": [],
   "source": [
    "# Shows the result\n",
    "dfCAN_List"
   ]
  }
 ],
 "metadata": {
  "kernelspec": {
   "display_name": "Python 3",
   "language": "python",
   "name": "python3"
  },
  "language_info": {
   "codemirror_mode": {
    "name": "ipython",
    "version": 3
   },
   "file_extension": ".py",
   "mimetype": "text/x-python",
   "name": "python",
   "nbconvert_exporter": "python",
   "pygments_lexer": "ipython3",
   "version": "3.7.5"
  }
 },
 "nbformat": 4,
 "nbformat_minor": 2
}
